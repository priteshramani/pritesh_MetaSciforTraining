{
  "nbformat": 4,
  "nbformat_minor": 0,
  "metadata": {
    "colab": {
      "provenance": []
    },
    "kernelspec": {
      "name": "python3",
      "display_name": "Python 3"
    },
    "language_info": {
      "name": "python"
    }
  },
  "cells": [
    {
      "cell_type": "markdown",
      "source": [
        " **Python Coding Questions :**"
      ],
      "metadata": {
        "id": "OostX2HLYd26"
      }
    },
    {
      "cell_type": "code",
      "source": [
        "# 1.Write a Python program to check if a number is even or odd.\n",
        "def Check(num):\n",
        "  if num % 2 == 0:\n",
        "    print(f\"{num} is Even\")\n",
        "  else:\n",
        "    print(f\"{num} is Odd\")\n",
        "\n",
        "Check(5)"
      ],
      "metadata": {
        "colab": {
          "base_uri": "https://localhost:8080/"
        },
        "id": "X0cYr-yrNfva",
        "outputId": "315195a1-b74b-4100-c40c-e9ca8d411689"
      },
      "execution_count": 31,
      "outputs": [
        {
          "output_type": "stream",
          "name": "stdout",
          "text": [
            "5 is Odd\n"
          ]
        }
      ]
    },
    {
      "cell_type": "code",
      "source": [
        "# 2.Write a Python function to reverse a string without using built-in functions.\n",
        "def Reverse(string):\n",
        "  s=string[::-1]\n",
        "  return s\n",
        "\n",
        "Reverse(\"hello\")"
      ],
      "metadata": {
        "colab": {
          "base_uri": "https://localhost:8080/",
          "height": 35
        },
        "id": "5kBOqFiaOGMM",
        "outputId": "3f31f35c-694a-4024-f3af-0ff77806f163"
      },
      "execution_count": 32,
      "outputs": [
        {
          "output_type": "execute_result",
          "data": {
            "text/plain": [
              "'olleh'"
            ],
            "application/vnd.google.colaboratory.intrinsic+json": {
              "type": "string"
            }
          },
          "metadata": {},
          "execution_count": 32
        }
      ]
    },
    {
      "cell_type": "code",
      "source": [
        "# 3.Write a Python program to find the largest number in a given list.\n",
        "def largenum(num):\n",
        "  largest = num[0]\n",
        "\n",
        "  for n in num:\n",
        "    if n > largest :\n",
        "      largest = n\n",
        "\n",
        "  return largest\n",
        "\n",
        "list=[23,32,45,54,67,76,87,78]\n",
        "largenum(list)"
      ],
      "metadata": {
        "colab": {
          "base_uri": "https://localhost:8080/"
        },
        "id": "14QWMGc7OnTi",
        "outputId": "36521539-16d6-4e8a-cda5-92d4b9f85597"
      },
      "execution_count": 33,
      "outputs": [
        {
          "output_type": "execute_result",
          "data": {
            "text/plain": [
              "87"
            ]
          },
          "metadata": {},
          "execution_count": 33
        }
      ]
    },
    {
      "cell_type": "code",
      "source": [
        "# 4.Write a Python function to check if a given string is a palindrome.\n",
        "def palindrome(str):\n",
        "  reverse=\"\".join(reversed(str))\n",
        "  if str == reverse:\n",
        "    print(f\"{str} is a palindrome\")\n",
        "  else:\n",
        "    print(\"given string is not a palindrome\")\n",
        "\n",
        "palindrome(\"abcba\")"
      ],
      "metadata": {
        "colab": {
          "base_uri": "https://localhost:8080/"
        },
        "id": "7JnPxaKAOpc8",
        "outputId": "8fc1739b-443b-4938-ef86-cfc459416fdc"
      },
      "execution_count": 34,
      "outputs": [
        {
          "output_type": "stream",
          "name": "stdout",
          "text": [
            "abcba is a palindrome\n"
          ]
        }
      ]
    },
    {
      "cell_type": "code",
      "source": [
        "# 5.Write a Python program to count the occurrences of each character in a given string.\n",
        "def Count(str):\n",
        "  count = {}\n",
        "  for char in str:\n",
        "    if char in count:\n",
        "      count[char]+=1\n",
        "    else:\n",
        "      count[char]=1\n",
        "  return count\n",
        "\n",
        "Count(\"HellohELLO\")"
      ],
      "metadata": {
        "colab": {
          "base_uri": "https://localhost:8080/"
        },
        "id": "XHMzHvsrOr2a",
        "outputId": "29ee7d2f-17f3-4cfb-f1bd-2d6b3db3c767"
      },
      "execution_count": 35,
      "outputs": [
        {
          "output_type": "execute_result",
          "data": {
            "text/plain": [
              "{'H': 1, 'e': 1, 'l': 2, 'o': 1, 'h': 1, 'E': 1, 'L': 2, 'O': 1}"
            ]
          },
          "metadata": {},
          "execution_count": 35
        }
      ]
    },
    {
      "cell_type": "markdown",
      "source": [
        "**Object-Oriented Programming (OOP) Questions:**"
      ],
      "metadata": {
        "id": "287sY8taYOsY"
      }
    },
    {
      "cell_type": "code",
      "source": [
        "# 1. What is the difference between a class and an object in Python?"
      ],
      "metadata": {
        "id": "NRbA9TnXYNH7"
      },
      "execution_count": null,
      "outputs": []
    },
    {
      "cell_type": "markdown",
      "source": [
        "Class is a Blueprint for creating objects. and objects in class where contains attributes(value) and method(function)."
      ],
      "metadata": {
        "id": "uitw2ecVYyH4"
      }
    },
    {
      "cell_type": "code",
      "source": [
        "# 2. Explain the concept of inheritance with an example in Python."
      ],
      "metadata": {
        "id": "kMRT_swMOu-Z"
      },
      "execution_count": 10,
      "outputs": []
    },
    {
      "cell_type": "markdown",
      "source": [
        "Inheritance is allows a class to inherit from another class.\n",
        "Child class --> Parent class"
      ],
      "metadata": {
        "id": "8a_J_tDYa7px"
      }
    },
    {
      "cell_type": "code",
      "source": [
        "class Animal():  # parent class\n",
        "  def bark(name):\n",
        "    return \"Woof Woof\"\n",
        "\n",
        "class Dog(Animal): # Child class\n",
        "  def speak(self):\n",
        "    return \"Animal Speaks\"\n",
        "\n",
        "buddy = Dog()\n",
        "\n",
        "print(buddy.bark())\n",
        "print(buddy.speak())"
      ],
      "metadata": {
        "colab": {
          "base_uri": "https://localhost:8080/"
        },
        "id": "Qr_B3ufFdZPw",
        "outputId": "c78f32e2-5490-44c5-a176-8e1612fb180a"
      },
      "execution_count": 41,
      "outputs": [
        {
          "output_type": "stream",
          "name": "stdout",
          "text": [
            "Woof Woof\n",
            "Animal Speaks\n"
          ]
        }
      ]
    },
    {
      "cell_type": "code",
      "source": [
        "# 3. What is method overriding in Python? Provide an example."
      ],
      "metadata": {
        "id": "hgtQttuQOxYz"
      },
      "execution_count": 11,
      "outputs": []
    },
    {
      "cell_type": "markdown",
      "source": [
        "when a child class provides a implementation for a method that is already define a parent class."
      ],
      "metadata": {
        "id": "iEsvTThnfHBh"
      }
    },
    {
      "cell_type": "code",
      "source": [
        "class Animal:\n",
        "    def speak(self):\n",
        "        return \"Animal speaks\"\n",
        "\n",
        "class Dog(Animal):\n",
        "    def speak(self):\n",
        "        return \"Woof Woof\"\n",
        "\n",
        "buddy = Dog()\n",
        "tommy = Animal()\n",
        "print(tommy.speak())\n",
        "print(buddy.speak())"
      ],
      "metadata": {
        "colab": {
          "base_uri": "https://localhost:8080/"
        },
        "id": "5atRqcuCflOq",
        "outputId": "a1223a45-7ff9-426c-a965-0c89686bd99b"
      },
      "execution_count": 42,
      "outputs": [
        {
          "output_type": "stream",
          "name": "stdout",
          "text": [
            "Animal speaks\n",
            "Woof Woof\n"
          ]
        }
      ]
    },
    {
      "cell_type": "code",
      "source": [
        "# 4. What is the difference between an instance method, class method, and static method in Python?"
      ],
      "metadata": {
        "id": "nuW4Qh3COy14"
      },
      "execution_count": 12,
      "outputs": []
    },
    {
      "cell_type": "markdown",
      "source": [
        "@instancemethod --> this method to access and manipulate the instance's attributes\n",
        "\n",
        "@classmethod --> take the class itself as the first parameter\n",
        "\n",
        "@staticmethod --> sometimes we need a function that doesn't use self parameter"
      ],
      "metadata": {
        "id": "evsVgFpRgDxu"
      }
    },
    {
      "cell_type": "code",
      "source": [
        "# 5. Explain the significance of encapsulation in Python with an example."
      ],
      "metadata": {
        "id": "Nln-zIpJO0Mt"
      },
      "execution_count": 13,
      "outputs": []
    },
    {
      "cell_type": "markdown",
      "source": [
        "that restricts direct access to attributes or methods of an object. this helps to protect the objects and their attributes."
      ],
      "metadata": {
        "id": "zmraQO8OhOob"
      }
    },
    {
      "cell_type": "code",
      "source": [
        "class BankAccount:\n",
        "    def __init__(self, balance):\n",
        "        self.__balance = balance  # private\n",
        "\n",
        "    def deposit(self, amount):\n",
        "        if amount > 0:\n",
        "            self.__balance += amount\n",
        "\n",
        "    def get_balance(self):\n",
        "        return self.__balance\n",
        "\n",
        "account = BankAccount(1000)\n",
        "account.deposit(500)\n",
        "print(account.get_balance())"
      ],
      "metadata": {
        "id": "0T96_fTKO0yN"
      },
      "execution_count": null,
      "outputs": []
    }
  ]
}